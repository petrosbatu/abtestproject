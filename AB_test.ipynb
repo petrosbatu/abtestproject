{
 "cells": [
  {
   "cell_type": "code",
   "execution_count": 1,
   "id": "81763ca5-d47d-49b6-8b9b-248d12d82391",
   "metadata": {},
   "outputs": [],
   "source": [
    "import pandas as pd\n",
    "import numpy as np\n",
    "import matplotlib.pyplot as plt\n",
    "import scipy.stats as stats\n",
    "\n",
    "from tqdm.notebook import tqdm\n",
    "\n",
    "from statsmodels.stats.proportion import proportions_ztest\n",
    "\n",
    "from statsmodels.stats.power import NormalIndPower\n",
    "import statsmodels.api as sm"
   ]
  },
  {
   "cell_type": "markdown",
   "id": "f8d8e938-a468-4698-bb5d-10896da62327",
   "metadata": {},
   "source": [
    "# Исходные данные"
   ]
  },
  {
   "cell_type": "markdown",
   "id": "425e702f-294b-43be-8ee3-c182073093a8",
   "metadata": {},
   "source": [
    "Этот набор данных включает результаты A/B-тестирования мобильной игры Cookie Cats, исследующего влияние перемещения начальных ворот в игре с уровня 30 на уровень 40. После установки игры игрокам были случайным образом назначены ворота либо на 30 уровне, либо на 40."
   ]
  },
  {
   "cell_type": "code",
   "execution_count": 2,
   "id": "b4f3c87c-bc99-4ba8-b234-c0b3c860f1fd",
   "metadata": {},
   "outputs": [],
   "source": [
    "df = pd.read_csv('cookie_cats.txt')"
   ]
  },
  {
   "cell_type": "code",
   "execution_count": 3,
   "id": "b7f8980a-07c3-4edf-8236-72202a415236",
   "metadata": {},
   "outputs": [
    {
     "data": {
      "text/html": [
       "<div>\n",
       "<style scoped>\n",
       "    .dataframe tbody tr th:only-of-type {\n",
       "        vertical-align: middle;\n",
       "    }\n",
       "\n",
       "    .dataframe tbody tr th {\n",
       "        vertical-align: top;\n",
       "    }\n",
       "\n",
       "    .dataframe thead th {\n",
       "        text-align: right;\n",
       "    }\n",
       "</style>\n",
       "<table border=\"1\" class=\"dataframe\">\n",
       "  <thead>\n",
       "    <tr style=\"text-align: right;\">\n",
       "      <th></th>\n",
       "      <th>userid</th>\n",
       "      <th>version</th>\n",
       "      <th>sum_gamerounds</th>\n",
       "      <th>retention_1</th>\n",
       "      <th>retention_7</th>\n",
       "    </tr>\n",
       "  </thead>\n",
       "  <tbody>\n",
       "    <tr>\n",
       "      <th>0</th>\n",
       "      <td>116</td>\n",
       "      <td>gate_30</td>\n",
       "      <td>3</td>\n",
       "      <td>False</td>\n",
       "      <td>False</td>\n",
       "    </tr>\n",
       "    <tr>\n",
       "      <th>1</th>\n",
       "      <td>337</td>\n",
       "      <td>gate_30</td>\n",
       "      <td>38</td>\n",
       "      <td>True</td>\n",
       "      <td>False</td>\n",
       "    </tr>\n",
       "    <tr>\n",
       "      <th>2</th>\n",
       "      <td>377</td>\n",
       "      <td>gate_40</td>\n",
       "      <td>165</td>\n",
       "      <td>True</td>\n",
       "      <td>False</td>\n",
       "    </tr>\n",
       "    <tr>\n",
       "      <th>3</th>\n",
       "      <td>483</td>\n",
       "      <td>gate_40</td>\n",
       "      <td>1</td>\n",
       "      <td>False</td>\n",
       "      <td>False</td>\n",
       "    </tr>\n",
       "    <tr>\n",
       "      <th>4</th>\n",
       "      <td>488</td>\n",
       "      <td>gate_40</td>\n",
       "      <td>179</td>\n",
       "      <td>True</td>\n",
       "      <td>True</td>\n",
       "    </tr>\n",
       "  </tbody>\n",
       "</table>\n",
       "</div>"
      ],
      "text/plain": [
       "   userid  version  sum_gamerounds  retention_1  retention_7\n",
       "0     116  gate_30               3        False        False\n",
       "1     337  gate_30              38         True        False\n",
       "2     377  gate_40             165         True        False\n",
       "3     483  gate_40               1        False        False\n",
       "4     488  gate_40             179         True         True"
      ]
     },
     "execution_count": 3,
     "metadata": {},
     "output_type": "execute_result"
    }
   ],
   "source": [
    "df.head()"
   ]
  },
  {
   "cell_type": "code",
   "execution_count": 4,
   "id": "699a2306-329b-43a4-b9e7-d5f76441b3cc",
   "metadata": {},
   "outputs": [
    {
     "name": "stdout",
     "output_type": "stream",
     "text": [
      "<class 'pandas.core.frame.DataFrame'>\n",
      "RangeIndex: 90189 entries, 0 to 90188\n",
      "Data columns (total 5 columns):\n",
      " #   Column          Non-Null Count  Dtype \n",
      "---  ------          --------------  ----- \n",
      " 0   userid          90189 non-null  int64 \n",
      " 1   version         90189 non-null  object\n",
      " 2   sum_gamerounds  90189 non-null  int64 \n",
      " 3   retention_1     90189 non-null  bool  \n",
      " 4   retention_7     90189 non-null  bool  \n",
      "dtypes: bool(2), int64(2), object(1)\n",
      "memory usage: 2.2+ MB\n"
     ]
    }
   ],
   "source": [
    "df.info()"
   ]
  },
  {
   "cell_type": "code",
   "execution_count": 5,
   "id": "39fa6f08-f588-4c6d-8863-def0c0484132",
   "metadata": {},
   "outputs": [
    {
     "data": {
      "text/plain": [
       "90189"
      ]
     },
     "execution_count": 5,
     "metadata": {},
     "output_type": "execute_result"
    }
   ],
   "source": [
    "df['userid'].nunique() #дубликатов userid нет, число соответствует количеству строк"
   ]
  },
  {
   "cell_type": "markdown",
   "id": "086d3c29-f6c8-489f-b0d0-146e490374cd",
   "metadata": {},
   "source": [
    "У нас есть данные о 90 189 игроках, которые установили игру во время проведения AB-теста. Переменные:\n",
    "- userid: уникальный номер, идентифицирующий каждого игрока.\n",
    "- version: попал ли игрок в контрольную группу (gate_30 - ворота 30 уровня) или группу с перенесенными воротами (gate_40 - ворота 40 уровня).\n",
    "- sum_gamerounds: количество игровых раундов, сыгранных игроком в течение первых 14 дней после установки.\n",
    "- retention_1: вернулся ли игрок через 1 день после установки?\n",
    "- retention_7: вернулся ли игрок через 1 день после установки?"
   ]
  },
  {
   "cell_type": "code",
   "execution_count": 6,
   "id": "eab1b912-fe5d-4f41-acfa-6d57b51e38f2",
   "metadata": {},
   "outputs": [],
   "source": [
    "df_control = df.query('version == \"gate_30\"')\n",
    "df_test = df.query('version == \"gate_40\"')"
   ]
  },
  {
   "cell_type": "code",
   "execution_count": 7,
   "id": "f0d55a51-e974-4510-9874-f7372f3a5273",
   "metadata": {},
   "outputs": [
    {
     "data": {
      "text/html": [
       "<div>\n",
       "<style scoped>\n",
       "    .dataframe tbody tr th:only-of-type {\n",
       "        vertical-align: middle;\n",
       "    }\n",
       "\n",
       "    .dataframe tbody tr th {\n",
       "        vertical-align: top;\n",
       "    }\n",
       "\n",
       "    .dataframe thead th {\n",
       "        text-align: right;\n",
       "    }\n",
       "</style>\n",
       "<table border=\"1\" class=\"dataframe\">\n",
       "  <thead>\n",
       "    <tr style=\"text-align: right;\">\n",
       "      <th></th>\n",
       "      <th>userid</th>\n",
       "      <th>version</th>\n",
       "      <th>sum_gamerounds</th>\n",
       "      <th>retention_1</th>\n",
       "      <th>retention_7</th>\n",
       "    </tr>\n",
       "  </thead>\n",
       "  <tbody>\n",
       "    <tr>\n",
       "      <th>0</th>\n",
       "      <td>116</td>\n",
       "      <td>gate_30</td>\n",
       "      <td>3</td>\n",
       "      <td>False</td>\n",
       "      <td>False</td>\n",
       "    </tr>\n",
       "    <tr>\n",
       "      <th>1</th>\n",
       "      <td>337</td>\n",
       "      <td>gate_30</td>\n",
       "      <td>38</td>\n",
       "      <td>True</td>\n",
       "      <td>False</td>\n",
       "    </tr>\n",
       "    <tr>\n",
       "      <th>6</th>\n",
       "      <td>1066</td>\n",
       "      <td>gate_30</td>\n",
       "      <td>0</td>\n",
       "      <td>False</td>\n",
       "      <td>False</td>\n",
       "    </tr>\n",
       "    <tr>\n",
       "      <th>11</th>\n",
       "      <td>2101</td>\n",
       "      <td>gate_30</td>\n",
       "      <td>0</td>\n",
       "      <td>False</td>\n",
       "      <td>False</td>\n",
       "    </tr>\n",
       "    <tr>\n",
       "      <th>13</th>\n",
       "      <td>2179</td>\n",
       "      <td>gate_30</td>\n",
       "      <td>39</td>\n",
       "      <td>True</td>\n",
       "      <td>False</td>\n",
       "    </tr>\n",
       "  </tbody>\n",
       "</table>\n",
       "</div>"
      ],
      "text/plain": [
       "    userid  version  sum_gamerounds  retention_1  retention_7\n",
       "0      116  gate_30               3        False        False\n",
       "1      337  gate_30              38         True        False\n",
       "6     1066  gate_30               0        False        False\n",
       "11    2101  gate_30               0        False        False\n",
       "13    2179  gate_30              39         True        False"
      ]
     },
     "execution_count": 7,
     "metadata": {},
     "output_type": "execute_result"
    }
   ],
   "source": [
    "df_control.head()"
   ]
  },
  {
   "cell_type": "code",
   "execution_count": 8,
   "id": "fb6665e0-64c8-4429-ab06-f96ba8677a02",
   "metadata": {},
   "outputs": [
    {
     "data": {
      "image/png": "[encoded data removed]",
      "text/plain": [
       "<Figure size 720x216 with 1 Axes>"
      ]
     },
     "metadata": {
      "needs_background": "light"
     },
     "output_type": "display_data"
    }
   ],
   "source": [
    "plt.figure(figsize=(10,3))\n",
    "plt.boxplot([df_control['sum_gamerounds'], df_test['sum_gamerounds']], vert=False, labels = ['control', 'test'], sym='|')\n",
    "plt.show() #имеем выброс в контрольной группе"
   ]
  },
  {
   "cell_type": "code",
   "execution_count": 9,
   "id": "80f198c0-f87e-4822-b9e7-61f9dc5c4a6e",
   "metadata": {},
   "outputs": [
    {
     "data": {
      "text/html": [
       "<div>\n",
       "<style scoped>\n",
       "    .dataframe tbody tr th:only-of-type {\n",
       "        vertical-align: middle;\n",
       "    }\n",
       "\n",
       "    .dataframe tbody tr th {\n",
       "        vertical-align: top;\n",
       "    }\n",
       "\n",
       "    .dataframe thead th {\n",
       "        text-align: right;\n",
       "    }\n",
       "</style>\n",
       "<table border=\"1\" class=\"dataframe\">\n",
       "  <thead>\n",
       "    <tr style=\"text-align: right;\">\n",
       "      <th></th>\n",
       "      <th>userid</th>\n",
       "      <th>version</th>\n",
       "      <th>sum_gamerounds</th>\n",
       "      <th>retention_1</th>\n",
       "      <th>retention_7</th>\n",
       "    </tr>\n",
       "  </thead>\n",
       "  <tbody>\n",
       "    <tr>\n",
       "      <th>57702</th>\n",
       "      <td>6390605</td>\n",
       "      <td>gate_30</td>\n",
       "      <td>49854</td>\n",
       "      <td>False</td>\n",
       "      <td>True</td>\n",
       "    </tr>\n",
       "    <tr>\n",
       "      <th>7912</th>\n",
       "      <td>871500</td>\n",
       "      <td>gate_30</td>\n",
       "      <td>2961</td>\n",
       "      <td>True</td>\n",
       "      <td>True</td>\n",
       "    </tr>\n",
       "    <tr>\n",
       "      <th>29417</th>\n",
       "      <td>3271615</td>\n",
       "      <td>gate_40</td>\n",
       "      <td>2640</td>\n",
       "      <td>True</td>\n",
       "      <td>False</td>\n",
       "    </tr>\n",
       "    <tr>\n",
       "      <th>43671</th>\n",
       "      <td>4832608</td>\n",
       "      <td>gate_30</td>\n",
       "      <td>2438</td>\n",
       "      <td>True</td>\n",
       "      <td>True</td>\n",
       "    </tr>\n",
       "    <tr>\n",
       "      <th>48188</th>\n",
       "      <td>5346171</td>\n",
       "      <td>gate_40</td>\n",
       "      <td>2294</td>\n",
       "      <td>True</td>\n",
       "      <td>True</td>\n",
       "    </tr>\n",
       "  </tbody>\n",
       "</table>\n",
       "</div>"
      ],
      "text/plain": [
       "        userid  version  sum_gamerounds  retention_1  retention_7\n",
       "57702  6390605  gate_30           49854        False         True\n",
       "7912    871500  gate_30            2961         True         True\n",
       "29417  3271615  gate_40            2640         True        False\n",
       "43671  4832608  gate_30            2438         True         True\n",
       "48188  5346171  gate_40            2294         True         True"
      ]
     },
     "execution_count": 9,
     "metadata": {},
     "output_type": "execute_result"
    }
   ],
   "source": [
    "df.sort_values('sum_gamerounds', ascending=False).head()"
   ]
  },
  {
   "cell_type": "code",
   "execution_count": 10,
   "id": "6b8b2b5a-2196-4450-8727-f5934294ec6f",
   "metadata": {},
   "outputs": [],
   "source": [
    "df = df.query('userid != 6390605')\n",
    "df_control = df_control.query('userid != 6390605') #исключение выброса"
   ]
  },
  {
   "cell_type": "code",
   "execution_count": 11,
   "id": "6b87c6c6-3440-48dd-ac83-4ab79ece0634",
   "metadata": {},
   "outputs": [
    {
     "data": {
      "image/png": "[encoded data removed]",
      "text/plain": [
       "<Figure size 720x216 with 1 Axes>"
      ]
     },
     "metadata": {
      "needs_background": "light"
     },
     "output_type": "display_data"
    }
   ],
   "source": [
    "plt.figure(figsize=(10,3))\n",
    "plt.boxplot([df_control['sum_gamerounds'], df_test['sum_gamerounds']], vert=False, labels = ['control', 'test'], sym='|')\n",
    "plt.show() #выборки с исключенным выбросом"
   ]
  },
  {
   "cell_type": "code",
   "execution_count": 12,
   "id": "afa03cd5-a368-44d1-8b28-45ad1b5b97b5",
   "metadata": {},
   "outputs": [
    {
     "data": {
      "image/png": "[encoded data removed]",
      "text/plain": [
       "<Figure size 432x288 with 1 Axes>"
      ]
     },
     "metadata": {
      "needs_background": "light"
     },
     "output_type": "display_data"
    }
   ],
   "source": [
    "plt.hist(df_control['sum_gamerounds'])\n",
    "plt.show()"
   ]
  },
  {
   "cell_type": "code",
   "execution_count": 13,
   "id": "4b2c5270-6620-42e7-9feb-33ceb18c63ff",
   "metadata": {},
   "outputs": [
    {
     "data": {
      "image/png": "[encoded data removed]",
      "text/plain": [
       "<Figure size 432x288 with 1 Axes>"
      ]
     },
     "metadata": {
      "needs_background": "light"
     },
     "output_type": "display_data"
    }
   ],
   "source": [
    "plt.hist(df_test['sum_gamerounds'])\n",
    "plt.show()"
   ]
  },
  {
   "cell_type": "code",
   "execution_count": 14,
   "id": "159284be-94e0-4b2e-a665-ca476aebcb38",
   "metadata": {
    "scrolled": true
   },
   "outputs": [
    {
     "data": {
      "text/html": [
       "<div>\n",
       "<style scoped>\n",
       "    .dataframe tbody tr th:only-of-type {\n",
       "        vertical-align: middle;\n",
       "    }\n",
       "\n",
       "    .dataframe tbody tr th {\n",
       "        vertical-align: top;\n",
       "    }\n",
       "\n",
       "    .dataframe thead tr th {\n",
       "        text-align: left;\n",
       "    }\n",
       "</style>\n",
       "<table border=\"1\" class=\"dataframe\">\n",
       "  <thead>\n",
       "    <tr>\n",
       "      <th></th>\n",
       "      <th>version</th>\n",
       "      <th>userid</th>\n",
       "      <th colspan=\"2\" halign=\"left\">sum_gamerounds</th>\n",
       "      <th>retention_1</th>\n",
       "      <th>retention_7</th>\n",
       "    </tr>\n",
       "    <tr>\n",
       "      <th></th>\n",
       "      <th></th>\n",
       "      <th>count</th>\n",
       "      <th>mean</th>\n",
       "      <th>median</th>\n",
       "      <th>mean</th>\n",
       "      <th>mean</th>\n",
       "    </tr>\n",
       "  </thead>\n",
       "  <tbody>\n",
       "    <tr>\n",
       "      <th>0</th>\n",
       "      <td>gate_30</td>\n",
       "      <td>44699</td>\n",
       "      <td>51.342111</td>\n",
       "      <td>17.0</td>\n",
       "      <td>0.448198</td>\n",
       "      <td>0.190183</td>\n",
       "    </tr>\n",
       "    <tr>\n",
       "      <th>1</th>\n",
       "      <td>gate_40</td>\n",
       "      <td>45489</td>\n",
       "      <td>51.298776</td>\n",
       "      <td>16.0</td>\n",
       "      <td>0.442283</td>\n",
       "      <td>0.182000</td>\n",
       "    </tr>\n",
       "  </tbody>\n",
       "</table>\n",
       "</div>"
      ],
      "text/plain": [
       "   version userid sum_gamerounds        retention_1 retention_7\n",
       "            count           mean median        mean        mean\n",
       "0  gate_30  44699      51.342111   17.0    0.448198    0.190183\n",
       "1  gate_40  45489      51.298776   16.0    0.442283    0.182000"
      ]
     },
     "execution_count": 14,
     "metadata": {},
     "output_type": "execute_result"
    }
   ],
   "source": [
    "df.groupby('version', as_index=False).agg({'userid': 'count',\n",
    "                                           'sum_gamerounds': ['mean', 'median'],\n",
    "                                           'retention_1': 'mean',\n",
    "                                           'retention_7': 'mean'})"
   ]
  },
  {
   "cell_type": "markdown",
   "id": "144ec573-beed-4d8c-8c94-477b247d8473",
   "metadata": {},
   "source": [
    "### Трансформация распределения"
   ]
  },
  {
   "cell_type": "markdown",
   "id": "5c45a82b-64ab-4705-a8f6-3856717978fb",
   "metadata": {},
   "source": [
    "Применим логарифмическое преобразование к распределению пройденных уровней"
   ]
  },
  {
   "cell_type": "code",
   "execution_count": 15,
   "id": "f9b5f95c-d0f4-423c-8d3b-d4d15da25ec5",
   "metadata": {},
   "outputs": [],
   "source": [
    "df_transformed_log = np.log(df_control.query('sum_gamerounds > 0')['sum_gamerounds'])"
   ]
  },
  {
   "cell_type": "code",
   "execution_count": 16,
   "id": "c0511600-10b1-4186-8e7b-cce05dbd9568",
   "metadata": {},
   "outputs": [],
   "source": [
    "df_transformed_log_test = np.log(df_test.query('sum_gamerounds > 0')['sum_gamerounds'])"
   ]
  },
  {
   "cell_type": "code",
   "execution_count": 17,
   "id": "3033c217-9d7a-4ce5-bed6-af295fd16122",
   "metadata": {},
   "outputs": [
    {
     "data": {
      "image/png": "[encoded data removed]",
      "text/plain": [
       "<Figure size 432x288 with 1 Axes>"
      ]
     },
     "metadata": {
      "needs_background": "light"
     },
     "output_type": "display_data"
    }
   ],
   "source": [
    "plt.hist(df_transformed_log)\n",
    "plt.show()"
   ]
  },
  {
   "cell_type": "code",
   "execution_count": 18,
   "id": "1e4811ab-c723-4cbe-82f3-826eb56a1ca7",
   "metadata": {},
   "outputs": [
    {
     "data": {
      "image/png": "[encoded data removed]",
      "text/plain": [
       "<Figure size 432x288 with 1 Axes>"
      ]
     },
     "metadata": {
      "needs_background": "light"
     },
     "output_type": "display_data"
    }
   ],
   "source": [
    "plt.hist(df_transformed_log_test)\n",
    "plt.show()"
   ]
  },
  {
   "cell_type": "code",
   "execution_count": 19,
   "id": "4c4044a9-31df-4ca9-b3e5-d7b227bbd424",
   "metadata": {},
   "outputs": [
    {
     "data": {
      "text/plain": [
       "2.8895630046553813"
      ]
     },
     "execution_count": 19,
     "metadata": {},
     "output_type": "execute_result"
    }
   ],
   "source": [
    "df_transformed_log.mean()"
   ]
  },
  {
   "cell_type": "code",
   "execution_count": 20,
   "id": "2b967ac9-90fd-4e6b-992d-cdf9bad816ec",
   "metadata": {},
   "outputs": [
    {
     "data": {
      "text/plain": [
       "2.87454313039857"
      ]
     },
     "execution_count": 20,
     "metadata": {},
     "output_type": "execute_result"
    }
   ],
   "source": [
    "df_transformed_log_test.mean()"
   ]
  },
  {
   "cell_type": "markdown",
   "id": "674c91af-1d49-400b-b057-692ae86436e9",
   "metadata": {},
   "source": [
    "Логарифмическое преобразование решает проблему выбросов, но:\n",
    "- усложняет интерпретацию результатов\n",
    "- полученные данные имеют несеметричный вид, распределение выглядит как обрезанное на нуле нормальное\n",
    "- как будет показано позже, для получения мощности a/b-теста потребуется выборка в 10 раз превышающая текущую. Это всё равно меньше, чем без преобразования, но тем не менее очень много"
   ]
  },
  {
   "cell_type": "markdown",
   "id": "dede0d66-cc24-4b54-a15e-6fd4e6e61237",
   "metadata": {},
   "source": [
    "# A/B-тестирование"
   ]
  },
  {
   "cell_type": "markdown",
   "id": "c9777e61-a63c-4634-bdb9-55c46c09af68",
   "metadata": {},
   "source": [
    "Имеем данные о трёх переменных для контрольной и тестовой групп. Проверим значимость различий распределения для среднего числа раундов, проведённых в игре, а также retention на 1 день и на 7 день после установки."
   ]
  },
  {
   "cell_type": "markdown",
   "id": "74088d9b-7cdb-4f54-b79a-7ae7fb601925",
   "metadata": {},
   "source": [
    "Проверяем одновременно три гипотезы, используем поправку Бонферрони для уровня значимости."
   ]
  },
  {
   "cell_type": "code",
   "execution_count": 21,
   "id": "e8695371-626c-4e8f-9a51-d59d59f765e7",
   "metadata": {},
   "outputs": [
    {
     "data": {
      "text/plain": [
       "0.016666666666666666"
      ]
     },
     "execution_count": 21,
     "metadata": {},
     "output_type": "execute_result"
    }
   ],
   "source": [
    "alpha = 0.05 / 3\n",
    "alpha"
   ]
  },
  {
   "cell_type": "markdown",
   "id": "bc9ac19b-8727-4f1e-9ed1-70c2a9465544",
   "metadata": {},
   "source": [
    "## 1. Число проведённых раундов"
   ]
  },
  {
   "cell_type": "markdown",
   "id": "f17136fe-0025-4274-b652-85512c505dcf",
   "metadata": {},
   "source": [
    "Какой метод расчета p-value использовать? Имеем дело со скошенным распределением с очень утолщенным хвостом. T-test может давать некорректные результаты. Тогда сравниваем распределения, используем U-критерий Манна — Уитни."
   ]
  },
  {
   "cell_type": "markdown",
   "id": "a1ceceb4-c608-490f-83e5-59f8f2c1322b",
   "metadata": {},
   "source": [
    "H0: распределения количества сыгранных раундов в группе A и группе B совпадают\n",
    "\n",
    "H1: распределения количества сыгранных раундов в группе A и группе B различаются"
   ]
  },
  {
   "cell_type": "markdown",
   "id": "14445b49",
   "metadata": {},
   "source": [
    "Проверим как будет вести себя p-value на выборках где не должно получаться статистических различий. Будем генерировать по две подвыборки из контрольной группы. Так как мы знаем, что эти подвыборки принадлежат одной выборке, то ожидаем, что FPR соответствует значению статистической значимости. Иными словами pvalue распределено равномерно."
   ]
  },
  {
   "cell_type": "code",
   "execution_count": 22,
   "id": "afb9e66b-de77-4193-bfe3-715b3693cbeb",
   "metadata": {},
   "outputs": [
    {
     "data": {
      "application/vnd.jupyter.widget-view+json": {
       "model_id": "e860d2f6aa814f22bfc1973475ed9be8",
       "version_major": 2,
       "version_minor": 0
      },
      "text/plain": [
       "  0%|          | 0/1000 [00:00<?, ?it/s]"
      ]
     },
     "metadata": {},
     "output_type": "display_data"
    }
   ],
   "source": [
    "n = 1000\n",
    "result = []\n",
    "for i in tqdm(range(n)):\n",
    "    a = df_control['sum_gamerounds'].sample(frac=1/2,replace=True,random_state=i)\n",
    "    b = df_control['sum_gamerounds'].sample(frac=1/2,replace=True,random_state=n-i)\n",
    "    pvalue = stats.mannwhitneyu(a,b,use_continuity=False,alternative='two-sided')[1]\n",
    "    result.append(pvalue)"
   ]
  },
  {
   "cell_type": "code",
   "execution_count": 23,
   "id": "1452f05c-6d79-475b-b765-9d5674553051",
   "metadata": {},
   "outputs": [],
   "source": [
    "result = pd.Series(result)"
   ]
  },
  {
   "cell_type": "code",
   "execution_count": 24,
   "id": "a6b71087",
   "metadata": {},
   "outputs": [
    {
     "data": {
      "image/png": "[encoded data removed]",
      "text/plain": [
       "<Figure size 432x288 with 1 Axes>"
      ]
     },
     "metadata": {
      "needs_background": "light"
     },
     "output_type": "display_data"
    }
   ],
   "source": [
    "plt.hist(result)\n",
    "plt.show()"
   ]
  },
  {
   "cell_type": "code",
   "execution_count": 25,
   "id": "3048b97d-ee15-4336-9fab-257cd2f85ef5",
   "metadata": {},
   "outputs": [
    {
     "data": {
      "image/png": "[encoded data removed]",
      "text/plain": [
       "<Figure size 432x288 with 1 Axes>"
      ]
     },
     "metadata": {
      "needs_background": "light"
     },
     "output_type": "display_data"
    }
   ],
   "source": [
    "stats.probplot(result, dist='uniform', plot=plt)\n",
    "plt.show()"
   ]
  },
  {
   "cell_type": "code",
   "execution_count": 26,
   "id": "1d425b60-5e51-4314-9014-117c3cf152be",
   "metadata": {},
   "outputs": [
    {
     "data": {
      "text/plain": [
       "(0.016, 0.016666666666666666)"
      ]
     },
     "execution_count": 26,
     "metadata": {},
     "output_type": "execute_result"
    }
   ],
   "source": [
    "(result < alpha).mean(), alpha #FPR и alpha"
   ]
  },
  {
   "cell_type": "markdown",
   "id": "54b74537-d93d-40c1-88fe-884f15771c0b",
   "metadata": {},
   "source": [
    "P-value распределено равномерно, FPR соответствует установленному alpha.\n",
    "Можем использовать критерий Манна-Уитни"
   ]
  },
  {
   "cell_type": "markdown",
   "id": "92777bad",
   "metadata": {},
   "source": [
    "### 1.2. Проверка гипотез"
   ]
  },
  {
   "cell_type": "code",
   "execution_count": 27,
   "id": "fddfcf2b",
   "metadata": {},
   "outputs": [
    {
     "data": {
      "text/plain": [
       "MannwhitneyuResult(statistic=1024285761.5, pvalue=0.05089153761189497)"
      ]
     },
     "execution_count": 27,
     "metadata": {},
     "output_type": "execute_result"
    }
   ],
   "source": [
    "a = df_control['sum_gamerounds']\n",
    "b = df_test['sum_gamerounds']\n",
    "\n",
    "stats.mannwhitneyu(a,b,use_continuity=False,alternative='two-sided')"
   ]
  },
  {
   "cell_type": "markdown",
   "id": "cbf06f0d",
   "metadata": {},
   "source": [
    "pvalue > alpha\n",
    "\n",
    "Мы не можем отвергнуть нулевую гипотезу, а значит и не можем говорить о статистической значимости в различиях полученных средних."
   ]
  },
  {
   "cell_type": "markdown",
   "id": "5f671438",
   "metadata": {},
   "source": [
    "## 2. Retention на первый день"
   ]
  },
  {
   "cell_type": "markdown",
   "id": "51acbd13",
   "metadata": {},
   "source": [
    "H0: retention на первый день в группе A и группе B равны\n",
    "\n",
    "H1: retention на первый день в группе A и группе B различны"
   ]
  },
  {
   "cell_type": "code",
   "execution_count": 28,
   "id": "230a4e21",
   "metadata": {},
   "outputs": [],
   "source": [
    "group_size_1 = np.array([df_control['userid'].count(),\n",
    "                       df_test['userid'].count()])\n",
    "retention_1 = np.array([df_control.query('retention_1')['userid'].count(),\n",
    "                      df_test.query('retention_1')['userid'].count()])"
   ]
  },
  {
   "cell_type": "code",
   "execution_count": 29,
   "id": "e6c899cc",
   "metadata": {},
   "outputs": [
    {
     "data": {
      "text/plain": [
       "[44699, 45489]"
      ]
     },
     "execution_count": 29,
     "metadata": {},
     "output_type": "execute_result"
    }
   ],
   "source": [
    "list(group_size_1)"
   ]
  },
  {
   "cell_type": "code",
   "execution_count": 30,
   "id": "75eef32f",
   "metadata": {},
   "outputs": [
    {
     "data": {
      "text/plain": [
       "[20034, 20119]"
      ]
     },
     "execution_count": 30,
     "metadata": {},
     "output_type": "execute_result"
    }
   ],
   "source": [
    "list(retention_1)"
   ]
  },
  {
   "cell_type": "code",
   "execution_count": 31,
   "id": "4c3ddcf0",
   "metadata": {},
   "outputs": [
    {
     "data": {
      "text/plain": [
       "(0.0739207603418346, 0.016666666666666666)"
      ]
     },
     "execution_count": 31,
     "metadata": {},
     "output_type": "execute_result"
    }
   ],
   "source": [
    "pvalue = proportions_ztest(retention_1, group_size_1)[1]\n",
    "pvalue, alpha"
   ]
  },
  {
   "cell_type": "code",
   "execution_count": 32,
   "id": "ffcbc320",
   "metadata": {},
   "outputs": [
    {
     "data": {
      "text/plain": [
       "False"
      ]
     },
     "execution_count": 32,
     "metadata": {},
     "output_type": "execute_result"
    }
   ],
   "source": [
    "pvalue < alpha"
   ]
  },
  {
   "cell_type": "markdown",
   "id": "ccf0689f",
   "metadata": {},
   "source": [
    "## 2. Retention на седьмой день"
   ]
  },
  {
   "cell_type": "markdown",
   "id": "35bd8d06",
   "metadata": {},
   "source": [
    "H0: retention на седьмой день в группе A и группе B равны\n",
    "\n",
    "H1: retention на седьмой день в группе A и группе B различны"
   ]
  },
  {
   "cell_type": "code",
   "execution_count": 33,
   "id": "9ee735e8",
   "metadata": {},
   "outputs": [],
   "source": [
    "group_size_7 = np.array([df_control['userid'].count(),\n",
    "                       df_test['userid'].count()])\n",
    "retention_7 = np.array([df_control.query('retention_7')['userid'].count(),\n",
    "                      df_test.query('retention_7')['userid'].count()])"
   ]
  },
  {
   "cell_type": "code",
   "execution_count": 34,
   "id": "5ab9c776",
   "metadata": {},
   "outputs": [
    {
     "data": {
      "text/plain": [
       "[44699, 45489]"
      ]
     },
     "execution_count": 34,
     "metadata": {},
     "output_type": "execute_result"
    }
   ],
   "source": [
    "list(group_size_7)"
   ]
  },
  {
   "cell_type": "code",
   "execution_count": 35,
   "id": "20f1e64c",
   "metadata": {},
   "outputs": [
    {
     "data": {
      "text/plain": [
       "[8501, 8279]"
      ]
     },
     "execution_count": 35,
     "metadata": {},
     "output_type": "execute_result"
    }
   ],
   "source": [
    "list(retention_7)"
   ]
  },
  {
   "cell_type": "code",
   "execution_count": 36,
   "id": "6299b891",
   "metadata": {},
   "outputs": [
    {
     "data": {
      "text/plain": [
       "(0.0015917731773993442, 0.016666666666666666)"
      ]
     },
     "execution_count": 36,
     "metadata": {},
     "output_type": "execute_result"
    }
   ],
   "source": [
    "pvalue = proportions_ztest(retention_7, group_size_7)[1]\n",
    "pvalue, alpha"
   ]
  },
  {
   "cell_type": "code",
   "execution_count": 37,
   "id": "714f9357",
   "metadata": {},
   "outputs": [
    {
     "data": {
      "text/plain": [
       "True"
      ]
     },
     "execution_count": 37,
     "metadata": {},
     "output_type": "execute_result"
    }
   ],
   "source": [
    "pvalue < alpha"
   ]
  },
  {
   "cell_type": "markdown",
   "id": "2daa1d64",
   "metadata": {},
   "source": [
    "# Оценка мощности"
   ]
  },
  {
   "cell_type": "markdown",
   "id": "a3a3ff31",
   "metadata": {},
   "source": [
    "Данный датасет и описание к нему не содержат допустимых уровней ошибок первого и второго рода, размер эффекта. Попробуем оценить достигаемую мощность. Параметры подбираются таким образом, чтобы рассчитаные размеры выборок соответствовали имеющимся."
   ]
  },
  {
   "cell_type": "code",
   "execution_count": 38,
   "id": "251a40df-f084-4173-a39d-2e385ecca884",
   "metadata": {},
   "outputs": [],
   "source": [
    "def get_sample_size(mde, alpha=0.05, power=0.8, ratio=1, discrete=True, std=None, baseline=None):\n",
    "    if discrete:\n",
    "        effect_size = sm.stats.proportion_effectsize(baseline, baseline + mde)\n",
    "    else:\n",
    "        effect_size = mde / std\n",
    "    \n",
    "    analysis = NormalIndPower()\n",
    "    result = analysis.solve_power(effect_size=effect_size, power=power, alpha=alpha, ratio=ratio, alternative='two-sided')\n",
    "    sample_size = int(np.ceil(result))\n",
    "    \n",
    "    return sample_size, sample_size*ratio"
   ]
  },
  {
   "cell_type": "markdown",
   "id": "b08c535e-2cfb-42cd-a9db-bbc726c7f7a8",
   "metadata": {},
   "source": [
    "### Число сыгранных раундов"
   ]
  },
  {
   "cell_type": "code",
   "execution_count": 39,
   "id": "59340870-a409-494b-91a7-13d0b746f7af",
   "metadata": {},
   "outputs": [
    {
     "data": {
      "text/plain": [
       "(44356, 44356)"
      ]
     },
     "execution_count": 39,
     "metadata": {},
     "output_type": "execute_result"
    }
   ],
   "source": [
    "get_sample_size(mde=2, alpha=alpha, power=0.7, ratio=1, discrete=False, std=df_control['sum_gamerounds'].std())"
   ]
  },
  {
   "cell_type": "markdown",
   "id": "bf6a5935-07ce-45dc-9ddb-22e35f30f67f",
   "metadata": {},
   "source": [
    "Имеем мощность 70% c MDE = 2 раунда. MDE гораздо больше полученных различий"
   ]
  },
  {
   "cell_type": "code",
   "execution_count": 40,
   "id": "be530d07-dc3e-4662-a6cd-6ea5306882df",
   "metadata": {},
   "outputs": [
    {
     "data": {
      "text/plain": [
       "(497450, 497450)"
      ]
     },
     "execution_count": 40,
     "metadata": {},
     "output_type": "execute_result"
    }
   ],
   "source": [
    "get_sample_size(mde=0.01, alpha=alpha, power=0.8, ratio=1, discrete=False, std=df_transformed_log.std())"
   ]
  },
  {
   "cell_type": "markdown",
   "id": "ed2c07d0-ba62-4b29-91ad-e454573952d8",
   "metadata": {},
   "source": [
    "### Retention через 1 день"
   ]
  },
  {
   "cell_type": "code",
   "execution_count": 41,
   "id": "690920a2-dbd4-42dd-b399-3369669af3d3",
   "metadata": {},
   "outputs": [
    {
     "data": {
      "text/plain": [
       "(47719, 47719)"
      ]
     },
     "execution_count": 41,
     "metadata": {},
     "output_type": "execute_result"
    }
   ],
   "source": [
    "get_sample_size(mde=0.005, alpha=alpha, power=0.2, ratio=1, baseline = df_control['retention_1'].mean())"
   ]
  },
  {
   "cell_type": "markdown",
   "id": "07e10afb-2d1d-4251-a8d4-d131dc0cb22d",
   "metadata": {},
   "source": [
    "Имеем мощность 20% c MDE = 0.05%. MDE выбран таким образом, чтобы быть слегка меньше полученных в результате эксперимента различий"
   ]
  },
  {
   "cell_type": "markdown",
   "id": "7ac9936e-cdc2-429a-bdcb-2a085d8b7ae3",
   "metadata": {},
   "source": [
    "### Retention через 7 дней"
   ]
  },
  {
   "cell_type": "code",
   "execution_count": 42,
   "id": "39375fac",
   "metadata": {},
   "outputs": [
    {
     "data": {
      "text/plain": [
       "(43495, 43495)"
      ]
     },
     "execution_count": 42,
     "metadata": {},
     "output_type": "execute_result"
    }
   ],
   "source": [
    "get_sample_size(mde=0.005, alpha=alpha, power=0.3, ratio=1, baseline = df_control['retention_7'].mean())"
   ]
  },
  {
   "cell_type": "markdown",
   "id": "8f06f7d2-fe5c-4105-a6ee-055e57e4e1f4",
   "metadata": {},
   "source": [
    "Имеем мощность 30% c MDE = 0.05%."
   ]
  },
  {
   "cell_type": "markdown",
   "id": "09750a5d-17b3-4f10-96c4-b5cb3e30756e",
   "metadata": {},
   "source": [
    "## Эксперименты с размером выброки, мощностью и альфой"
   ]
  },
  {
   "cell_type": "markdown",
   "id": "71fa5a9e-1883-41d6-ad25-9cce97be29cb",
   "metadata": {},
   "source": [
    "## 1. Число раундов"
   ]
  },
  {
   "cell_type": "code",
   "execution_count": 43,
   "id": "1b08fa28-7ccd-4c91-8851-1e309bc947b4",
   "metadata": {},
   "outputs": [
    {
     "data": {
      "text/plain": [
       "(177306, 177306)"
      ]
     },
     "execution_count": 43,
     "metadata": {},
     "output_type": "execute_result"
    }
   ],
   "source": [
    "get_sample_size(mde=0.5, alpha=0.5, power=0.8, ratio=1, discrete=False, std=df_control['sum_gamerounds'].std())"
   ]
  },
  {
   "cell_type": "code",
   "execution_count": 44,
   "id": "fd48ae34-a2c8-450e-a850-66a72d093136",
   "metadata": {},
   "outputs": [
    {
     "data": {
      "text/plain": [
       "(4332486, 4332486)"
      ]
     },
     "execution_count": 44,
     "metadata": {},
     "output_type": "execute_result"
    }
   ],
   "source": [
    "get_sample_size(mde=0.05, alpha=0.5, power=0.6, ratio=1, discrete=False, std=df_control['sum_gamerounds'].std())"
   ]
  },
  {
   "cell_type": "code",
   "execution_count": 45,
   "id": "ab0e1613-ff1d-436a-84bd-fc4a7dd8fff4",
   "metadata": {},
   "outputs": [
    {
     "data": {
      "text/plain": [
       "(101107, 101107)"
      ]
     },
     "execution_count": 45,
     "metadata": {},
     "output_type": "execute_result"
    }
   ],
   "source": [
    "get_sample_size(mde=0.01, alpha=0.5, power=0.8, ratio=1, discrete=False, std=df_transformed_log.std())"
   ]
  },
  {
   "cell_type": "markdown",
   "id": "2a61f784-da79-4a91-932f-12e7266ac9d3",
   "metadata": {},
   "source": [
    "## 2. Retention через 1 день"
   ]
  },
  {
   "cell_type": "code",
   "execution_count": 46,
   "id": "25e64b12-6f07-4259-8395-75b694dba1b0",
   "metadata": {},
   "outputs": [
    {
     "data": {
      "text/plain": [
       "(207345, 207345)"
      ]
     },
     "execution_count": 46,
     "metadata": {},
     "output_type": "execute_result"
    }
   ],
   "source": [
    "get_sample_size(mde=0.005, alpha=alpha, power=0.8, ratio=1, baseline = df_control['retention_1'].mean())"
   ]
  },
  {
   "cell_type": "code",
   "execution_count": 47,
   "id": "43c866c5-e2e2-488f-a3de-3077b49c45e8",
   "metadata": {},
   "outputs": [
    {
     "data": {
      "text/plain": [
       "(130279, 130279)"
      ]
     },
     "execution_count": 47,
     "metadata": {},
     "output_type": "execute_result"
    }
   ],
   "source": [
    "get_sample_size(mde=0.005, alpha=alpha, power=0.8, ratio=1, baseline = df_control['retention_7'].mean())"
   ]
  },
  {
   "cell_type": "markdown",
   "id": "885b8154-3ca4-4811-9dbb-93db40bdf423",
   "metadata": {},
   "source": [
    "## 3. Retention через 7 дней"
   ]
  },
  {
   "cell_type": "code",
   "execution_count": 48,
   "id": "88aa327e-a91c-4e3e-883c-d4d66a13fe91",
   "metadata": {},
   "outputs": [
    {
     "data": {
      "text/plain": [
       "(188251, 188251)"
      ]
     },
     "execution_count": 48,
     "metadata": {},
     "output_type": "execute_result"
    }
   ],
   "source": [
    "get_sample_size(mde=0.005, alpha=0.05/2, power=0.8, ratio=1, baseline = df_control['retention_1'].mean())"
   ]
  },
  {
   "cell_type": "code",
   "execution_count": 49,
   "id": "008b8b18-fade-4353-8ee2-824de24555e3",
   "metadata": {},
   "outputs": [
    {
     "data": {
      "text/plain": [
       "(118282, 118282)"
      ]
     },
     "execution_count": 49,
     "metadata": {},
     "output_type": "execute_result"
    }
   ],
   "source": [
    "get_sample_size(mde=0.005, alpha=0.05/2, power=0.8, ratio=1, baseline = df_control['retention_7'].mean())"
   ]
  },
  {
   "cell_type": "markdown",
   "id": "c26ccb71",
   "metadata": {},
   "source": [
    "# Вывод"
   ]
  },
  {
   "cell_type": "code",
   "execution_count": 50,
   "id": "6a7c0458",
   "metadata": {},
   "outputs": [
    {
     "data": {
      "text/html": [
       "<div>\n",
       "<style scoped>\n",
       "    .dataframe tbody tr th:only-of-type {\n",
       "        vertical-align: middle;\n",
       "    }\n",
       "\n",
       "    .dataframe tbody tr th {\n",
       "        vertical-align: top;\n",
       "    }\n",
       "\n",
       "    .dataframe thead th {\n",
       "        text-align: right;\n",
       "    }\n",
       "</style>\n",
       "<table border=\"1\" class=\"dataframe\">\n",
       "  <thead>\n",
       "    <tr style=\"text-align: right;\">\n",
       "      <th></th>\n",
       "      <th>version</th>\n",
       "      <th>userid</th>\n",
       "      <th>sum_gamerounds</th>\n",
       "      <th>retention_1</th>\n",
       "      <th>retention_7</th>\n",
       "    </tr>\n",
       "  </thead>\n",
       "  <tbody>\n",
       "    <tr>\n",
       "      <th>0</th>\n",
       "      <td>gate_30</td>\n",
       "      <td>44699</td>\n",
       "      <td>51.342111</td>\n",
       "      <td>0.448198</td>\n",
       "      <td>0.190183</td>\n",
       "    </tr>\n",
       "    <tr>\n",
       "      <th>1</th>\n",
       "      <td>gate_40</td>\n",
       "      <td>45489</td>\n",
       "      <td>51.298776</td>\n",
       "      <td>0.442283</td>\n",
       "      <td>0.182000</td>\n",
       "    </tr>\n",
       "  </tbody>\n",
       "</table>\n",
       "</div>"
      ],
      "text/plain": [
       "   version  userid  sum_gamerounds  retention_1  retention_7\n",
       "0  gate_30   44699       51.342111     0.448198     0.190183\n",
       "1  gate_40   45489       51.298776     0.442283     0.182000"
      ]
     },
     "execution_count": 50,
     "metadata": {},
     "output_type": "execute_result"
    }
   ],
   "source": [
    "df.groupby('version', as_index=False).agg({'userid': 'count',\n",
    "                                           'sum_gamerounds': 'mean',\n",
    "                                           'retention_1': 'mean',\n",
    "                                           'retention_7': 'mean'})"
   ]
  },
  {
   "cell_type": "markdown",
   "id": "58dc01f4",
   "metadata": {},
   "source": [
    "- Для распределения числа игровых раундов p-value > alpha. Мы не можем отвергнуть нулевую гипотезу, которая утверждает, что распределения не различаются.\n",
    "- Для retention на первый день также не отвергаем нулевую гипотезу, соответственно различия не являются статистически значимыми.\n",
    "- Для retention на седьмой день p-value < alpha, признаём различия статистически значимыми. Данная метрика ниже на 0.8% для тестовой группы. \n",
    "- Изменения retention меньше процента. Если для retention_1 установить MDE=0.5%, то мощность будет 20% (при данных размерах выборок). Возможно, при \"планировании эксперимента\" (в кавычках, т.к. эта часть отсутствует в описании к датасету) ожидались более существенные изменения данных метрик, либо тест завершили досрочно. Также велика вероятность, что при проверке гипотез мы совершили ошибку второго рода, т.е. две сравниваемые группы действительно различаются, но тест не обладает должной чувствительностью чтобы признать их статистически значимыми. \n",
    "- Если мы хотим провести повторный эксперимент с большей чувствительностью, то потребуется больший сумарный размер двух выборок. Для дополнительного повышения чувствительности можно предложить снизить количество сравниваемых метрик, выбрав наиболее важные/важную или другие, более чувствительные к изменения метрики.\n",
    "- Для сравнения средних величин sum_gamerounds, можно использовать логарифмическую трансформацию распределения. Она существенно повышает чувствительность теста, но в то же время существенно усложняет интерпретацию результатов."
   ]
  },
  {
   "cell_type": "code",
   "execution_count": null,
   "id": "17a66cda-778c-47b2-b1e2-ce20fe99ab0a",
   "metadata": {},
   "outputs": [],
   "source": []
  }
 ],
 "metadata": {
  "kernelspec": {
   "display_name": "Python 3 (ipykernel)",
   "language": "python",
   "name": "python3"
  },
  "language_info": {
   "codemirror_mode": {
    "name": "ipython",
    "version": 3
   },
   "file_extension": ".py",
   "mimetype": "text/x-python",
   "name": "python",
   "nbconvert_exporter": "python",
   "pygments_lexer": "ipython3",
   "version": "3.9.7"
  }
 },
 "nbformat": 4,
 "nbformat_minor": 5
}
